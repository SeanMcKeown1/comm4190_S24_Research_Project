{
 "cells": [
  {
   "cell_type": "markdown",
   "id": "3ae6ec06-4f62-43e8-a673-6046dd5b6439",
   "metadata": {},
   "source": [
    "Sean McKeown\n",
    "\n",
    "Computational A.I. \n",
    "\n",
    "Matt O’Donnell\n",
    "\n",
    "*This essay was created with assistance from A.I.* \n",
    "\n",
    "## How Does A.I. Effect The Impacts Of Agenda Setting ##\n",
    "**Pt.1**\n",
    "\n",
    "&nbsp;&nbsp; &nbsp;&nbsp; Artificial Intelligence has revolutionized the way we can search for and process information, particularly regarding learning about complicated topics. Agenda setting, a fundamental theory in communications, refers to the process by which actors inside of the media influence public opinion by selectively emphasizing certain issues, events, or perspectives over others (McCombs & Shaw, 1972). With the rise of A.I. as an option for news aggregation and analysis, it is important to explore how A.I. affects the impacts of agenda setting. \n",
    "\n",
    "&nbsp;&nbsp; &nbsp;&nbsp; Agenda setting is a pivotal concept in understanding the role of how the media communicates certain ideals that end up shaping public opinion. The media's ability to set the agenda is rooted in its power to decide what issues to cover, how to frame them, and what aspects to emphasize (Entman, 1993). This selective presentation of information can have a profound impact on the public's perception of reality, influencing what issues they consider important, how they think about them, and what attitudes they adopt (Iyengar & Kinder, 1987). The traditional agenda-setting process is often criticized for its potential biases and limitations. Media outlets, driven by commercial interests, political ideologies, or personal agendas, can manipulate the public's perception of reality by selectively presenting information (Herman & Chomsky, 1988). This can lead to a distorted view of reality, where certain issues or perspectives are overrepresented, while others are marginalized or ignored.\n",
    "\n",
    "&nbsp;&nbsp; &nbsp;&nbsp; The emergence of A.I.-powered news aggregation tools seems to offer a solution to these limitations. By compiling data from multiple sources, A.I. systems can provide a more comprehensive and objective view of the news landscape. This, in turn, could potentially mitigate the biases and distortions inherent in traditional agenda setting. However, A.I. itself is not immune to biases and limitations. The algorithms used to power A.I. systems are often designed by humans, who bring their own biases and assumptions to the table (Noble, 2018). Moreover, A.I. systems rely on the data they are trained on, which can be incomplete, inaccurate, or skewed (Bolsover, 2017). This means that A.I.-powered news aggregation tools can perpetuate and even amplify existing biases and distortions.\n",
    "\n",
    "&nbsp;&nbsp; &nbsp;&nbsp; One potential benefit of A.I. in agenda setting is its ability to increase the diversity of sources and perspectives. By aggregating data from a wide range of sources, A.I. systems can provide a more comprehensive view of the news landscape, potentially counterbalancing the biases of individual media outlets (Gentzkow & Shapiro, 2010). This can lead to a more informed public, better equipped to make informed decisions. However, A.I. can also exacerbate the echo chamber effect, where individuals are only exposed to information that confirms their existing beliefs and attitudes (Bakir, 2018). This can lead to further polarization and fragmentation of the public sphere, as individuals become increasingly isolated from opposing viewpoints. Another concern is the potential for A.I. to manipulate the agenda-setting process. A.I.-powered systems can be designed to prioritize certain issues or perspectives over others, potentially perpetuating existing biases and distortions (Diakopoulos, 2019). This raises important questions about accountability and transparency in A.I.-powered news aggregation. In conclusion, the relationship between A.I. and agenda setting is complex and multifaceted.\n",
    "\n",
    "&nbsp;&nbsp; &nbsp;&nbsp; While A.I. has the potential to increase the diversity of sources and perspectives, it can also perpetuate and amplify existing biases and distortions. To fully realize the benefits of A.I. in agenda setting, it is essential to address the limitations and biases of A.I. systems themselves. Ultimately, the impact of A.I. on agenda setting will depend on how these systems are designed and used. By acknowledging the potential benefits and limitations of A.I., we can harness its power to promote a more informed and engaged public, while mitigating the risks of manipulation and distortion.\n",
    "\n",
    "*In the second portion of this research paper, I will test the impacts LLMs have in changing how certain stories are presented.* \n",
    "\n",
    "# **Link**\n",
    "\n",
    "### [Part Two Of Paper](2ResarchPaper.ipynb)\n",
    "\n",
    "![Agenda Setting](Photos/AS.png) ![Llama-3](Photos/llama.png)"
   ]
  },
  {
   "cell_type": "code",
   "execution_count": null,
   "id": "b99693fe-9fa5-44c1-af13-13e7a3366f07",
   "metadata": {},
   "outputs": [],
   "source": []
  }
 ],
 "metadata": {
  "citation-manager": {
   "items": {}
  },
  "kernelspec": {
   "display_name": "Python 3.8",
   "language": "python",
   "name": "python3"
  },
  "language_info": {
   "codemirror_mode": {
    "name": "ipython",
    "version": 3
   },
   "file_extension": ".py",
   "mimetype": "text/x-python",
   "name": "python",
   "nbconvert_exporter": "python",
   "pygments_lexer": "ipython3",
   "version": "3.8.8"
  }
 },
 "nbformat": 4,
 "nbformat_minor": 5
}
