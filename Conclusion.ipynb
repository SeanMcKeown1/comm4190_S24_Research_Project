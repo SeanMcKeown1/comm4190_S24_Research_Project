{
 "cells": [
  {
   "cell_type": "markdown",
   "id": "ee54db01-702a-4e63-b0d2-44bbc83787fe",
   "metadata": {},
   "source": [
    "## **Final Assessment**"
   ]
  },
  {
   "cell_type": "markdown",
   "id": "b3981710-27b6-4b96-bfd7-1039d02a3489",
   "metadata": {},
   "source": [
    "&nbsp;&nbsp; &nbsp;&nbsp; When considering the analysis from part two of this research paper, I am inclined to think that LLMs ability to remove agenda's from news reporting can be beneficial at times and consequential during others. For the future theoretical use of LLMs as news aggregating services, I feel as though LLMs are well equipped to be used by those with proper guidance.\n",
    "\n",
    "&nbsp;&nbsp; &nbsp;&nbsp; When discussing the first article regarding WikiLeaks, I feel as though LLama was allowed to excel in its strength of straight forward reporting. The media for that story was so interconnected with the topic, that the agenda's being set didn't always properly cover the topic. While the investigation provided was invaluable, the LLama version of events was much more applicable for educating someone on the topic. That said, Llama could always be more fledged out in it's response, but so could the media. Llama's response in particular gives me great hope that, in the future, A.I. will be well equipped to aggregate information from the media while not losing out on what's important.\n",
    "\n",
    "&nbsp;&nbsp; &nbsp;&nbsp; The second article more so demonstrated the weakness that an LLM may have when it comes to impacting the stories told by the media. While the previous article allowed for matter-of-fact reporting to excel, the story regarding Haiti, I believe, quite benefits from allowing emotion. Llama's presented a quite factual agenda that removed emotion, turmoil, and the overall human factor from the article. While not necessary for every story, these aspects were quite important in the media's coverage. Despite agenda setting being insulted quite often, this is a good case of journalists providing the correct view points. Llama's inability to keep the agenda set by these media companies shows how there needs to be more work done for LLMs to be considered ready for news compiling.\n",
    "\n",
    "&nbsp;&nbsp; &nbsp;&nbsp;The success and struggles demonstrated prevent Llama being ready for news aggregating today, but those who can take information with a grain of salt will find Llama to be quite useful for compiling information. It seems that Llama removes outside agendas as a whole, while only including factual information (which acts as an agenda itself). This lack of perspective has its consequences, but the overall capabilities demonstrated by Llama gives me confidence that LLMs will be able to be used for this function in the future. "
   ]
  },
  {
   "cell_type": "code",
   "execution_count": null,
   "id": "c75105db-bda5-4858-8485-7e61c42592e8",
   "metadata": {},
   "outputs": [],
   "source": []
  }
 ],
 "metadata": {
  "citation-manager": {
   "items": {}
  },
  "kernelspec": {
   "display_name": "Python 3.8",
   "language": "python",
   "name": "python3"
  },
  "language_info": {
   "codemirror_mode": {
    "name": "ipython",
    "version": 3
   },
   "file_extension": ".py",
   "mimetype": "text/x-python",
   "name": "python",
   "nbconvert_exporter": "python",
   "pygments_lexer": "ipython3",
   "version": "3.8.8"
  }
 },
 "nbformat": 4,
 "nbformat_minor": 5
}
